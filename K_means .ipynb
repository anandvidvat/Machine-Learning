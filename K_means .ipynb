{
 "cells": [
  {
   "cell_type": "code",
   "execution_count": 4,
   "metadata": {
    "collapsed": true
   },
   "outputs": [],
   "source": [
    "import sys,math,random\n"
   ]
  },
  {
   "cell_type": "code",
   "execution_count": 5,
   "metadata": {
    "collapsed": true
   },
   "outputs": [],
   "source": [
    "class Point:\n",
    "    #self is the object it self\n",
    "    def __init__(self,coordinates,reference=None):\n",
    "        self.n=len(coordinates)\n",
    "        self.coordinates=coordinates\n",
    "        self.reference=reference  #reference of the object\n",
    "    \n",
    "    def __retr__(self):\n",
    "        return str(self.coordinates)"
   ]
  },
  {
   "cell_type": "code",
   "execution_count": 6,
   "metadata": {
    "collapsed": true
   },
   "outputs": [],
   "source": [
    "class Cluster:\n",
    "    def __init__(self,point):\n",
    "        if len(point)==0:raise Exception(\"ILLEGAL: Empty cluster\")\n",
    "        self.point=point\n",
    "        self.n=point[0].n\n",
    "        for p in points:\n",
    "            if p.n!=self.n :raise Exception(\"ILLEGAL:Multispace\")\n",
    "        self.centroid= self.calculatedCentriod()\n",
    "     \n",
    "    def __repr__(self):\n",
    "        return str(self.points)\n",
    "    def update(self,point):\n",
    "        old_centroid = self.centroid\n",
    "        self.point = point\n",
    "        self.centroid =self.calculateCentroid()\n",
    "        return getDistance(old_centroid, self.centroid)\n",
    "        \n",
    "    def calculateCentroid(self):\n",
    "        centroid_coordinates=[]\n",
    "        for i in self.n: \n",
    "            centroid_coordinates.append(0.0)\n",
    "            for p in point:\n",
    "                centroid_coordinates[i] = centroid_coordinates[i] + p.coordinates[i]\n",
    "            centroid_coordinates[i] = centroid_coordinates[i]/len(self.point)\n",
    "        return centroid_coordinates    \n",
    "        \n",
    "        \n",
    "    "
   ]
  },
  {
   "cell_type": "code",
   "execution_count": 7,
   "metadata": {
    "collapsed": true
   },
   "outputs": [],
   "source": [
    "def getDistance(a,b):\n",
    "    #a and b are two points\n",
    "    if a.n!=b.n: raise Exception(\"Illegal: Not of same Dimension\")\n",
    "    ret =0.0\n",
    "    for i in a.n:\n",
    "        ret = ret +pow((a[i]-b[i]),2)\n",
    "    return math.sqrt(ret)    \n",
    "        "
   ]
  },
  {
   "cell_type": "code",
   "execution_count": 8,
   "metadata": {
    "collapsed": true
   },
   "outputs": [],
   "source": [
    "def kmeans(points,k,cutoff):\n",
    "    initial_points = random.sample(points,k)\n",
    "    clusters = []\n",
    "    for p in initial_points: clusters.append(Cluster(p))\n",
    "    while True:\n",
    "        lists=[]\n",
    "        for c in cluster: lists.append([]) # adding empty list\n",
    "        \n",
    "        for p in points:\n",
    "            smallest_distance = getDistance(p,clusters[0].centroid)\n",
    "            index = 0\n",
    "            for i in range(len(clusters[1:])):\n",
    "                distance = getDistance(p, clusters[i+1].centroid)\n",
    "                if distance < smallest_distance:\n",
    "                    smallest_distance = distance\n",
    "                    index=i+1\n",
    "            lists[index].append(p)            \n",
    "        \n",
    "        biggest_shift = 0.0\n",
    "        for i in range(len(clusters)):\n",
    "            shift = clusters[i].update(lists[i])\n",
    "            biggest_shift = max(biggest_shift,shift)\n",
    "        \n",
    "        if biggest_shift < cutoff: break\n",
    "            \n",
    "    return clusters          "
   ]
  },
  {
   "cell_type": "code",
   "execution_count": 9,
   "metadata": {
    "collapsed": true
   },
   "outputs": [],
   "source": [
    "def main(args):\n",
    "    n = 2\n",
    "    lower_limit =-200\n",
    "    upper_limit = 200\n",
    "    K=2\n",
    "    K_means_cutoff=0.5\n",
    "    number_of_points=10 #input(\"Enter the number of points to cluster\")\n",
    "    points=[]\n",
    "    for i in range(0,int(number_of_points)):\n",
    "        p=buildRandomPoint(n,lower_limit,upper_limit)\n",
    "        points.append(p)\n",
    "        print (p)\n",
    "    cluster = kmeans(points,K,K_means_cutoff)\n",
    "    for c in cluster: print(c)"
   ]
  },
  {
   "cell_type": "code",
   "execution_count": 10,
   "metadata": {
    "collapsed": true
   },
   "outputs": [],
   "source": [
    "def buildRandomPoint(n,lower_limit,upper_limit):\n",
    "    coordinate=[]\n",
    "    for i in range(0,n):\n",
    "        coordinate.append(round(random.uniform(lower_limit,upper_limit))) #returns random integer\n",
    "    return Point(coordinate) #returns Point object which contains co-ordinates  "
   ]
  },
  {
   "cell_type": "code",
   "execution_count": 11,
   "metadata": {},
   "outputs": [
    {
     "name": "stdout",
     "output_type": "stream",
     "text": [
      "<__main__.Point object at 0x00000164CAC45FD0>\n",
      "<__main__.Point object at 0x00000164CAC2E5F8>\n",
      "<__main__.Point object at 0x00000164CAC2E470>\n",
      "<__main__.Point object at 0x00000164CAC2E550>\n",
      "<__main__.Point object at 0x00000164CAC2EEB8>\n",
      "<__main__.Point object at 0x00000164CAC2EC50>\n",
      "<__main__.Point object at 0x00000164CAC2EAC8>\n",
      "<__main__.Point object at 0x00000164CAC2EBE0>\n",
      "<__main__.Point object at 0x00000164CAC2EE48>\n",
      "<__main__.Point object at 0x00000164CAC2EA20>\n"
     ]
    },
    {
     "ename": "TypeError",
     "evalue": "object of type 'Point' has no len()",
     "output_type": "error",
     "traceback": [
      "\u001b[1;31m---------------------------------------------------------------------------\u001b[0m",
      "\u001b[1;31mTypeError\u001b[0m                                 Traceback (most recent call last)",
      "\u001b[1;32m<ipython-input-11-94ce0ee573cb>\u001b[0m in \u001b[0;36m<module>\u001b[1;34m()\u001b[0m\n\u001b[1;32m----> 1\u001b[1;33m \u001b[1;32mif\u001b[0m \u001b[0m__name__\u001b[0m\u001b[1;33m==\u001b[0m\u001b[1;34m\"__main__\"\u001b[0m\u001b[1;33m:\u001b[0m \u001b[0mmain\u001b[0m\u001b[1;33m(\u001b[0m\u001b[0msys\u001b[0m\u001b[1;33m.\u001b[0m\u001b[0margv\u001b[0m\u001b[1;33m)\u001b[0m\u001b[1;33m\u001b[0m\u001b[0m\n\u001b[0m",
      "\u001b[1;32m<ipython-input-9-561e87f900a4>\u001b[0m in \u001b[0;36mmain\u001b[1;34m(args)\u001b[0m\n\u001b[0;32m     11\u001b[0m         \u001b[0mpoints\u001b[0m\u001b[1;33m.\u001b[0m\u001b[0mappend\u001b[0m\u001b[1;33m(\u001b[0m\u001b[0mp\u001b[0m\u001b[1;33m)\u001b[0m\u001b[1;33m\u001b[0m\u001b[0m\n\u001b[0;32m     12\u001b[0m         \u001b[0mprint\u001b[0m \u001b[1;33m(\u001b[0m\u001b[0mp\u001b[0m\u001b[1;33m)\u001b[0m\u001b[1;33m\u001b[0m\u001b[0m\n\u001b[1;32m---> 13\u001b[1;33m     \u001b[0mcluster\u001b[0m \u001b[1;33m=\u001b[0m \u001b[0mkmeans\u001b[0m\u001b[1;33m(\u001b[0m\u001b[0mpoints\u001b[0m\u001b[1;33m,\u001b[0m\u001b[0mK\u001b[0m\u001b[1;33m,\u001b[0m\u001b[0mK_means_cutoff\u001b[0m\u001b[1;33m)\u001b[0m\u001b[1;33m\u001b[0m\u001b[0m\n\u001b[0m\u001b[0;32m     14\u001b[0m     \u001b[1;32mfor\u001b[0m \u001b[0mc\u001b[0m \u001b[1;32min\u001b[0m \u001b[0mcluster\u001b[0m\u001b[1;33m:\u001b[0m \u001b[0mprint\u001b[0m\u001b[1;33m(\u001b[0m\u001b[0mc\u001b[0m\u001b[1;33m)\u001b[0m\u001b[1;33m\u001b[0m\u001b[0m\n",
      "\u001b[1;32m<ipython-input-8-3ffdc5f3982c>\u001b[0m in \u001b[0;36mkmeans\u001b[1;34m(points, k, cutoff)\u001b[0m\n\u001b[0;32m      2\u001b[0m     \u001b[0minitial_points\u001b[0m \u001b[1;33m=\u001b[0m \u001b[0mrandom\u001b[0m\u001b[1;33m.\u001b[0m\u001b[0msample\u001b[0m\u001b[1;33m(\u001b[0m\u001b[0mpoints\u001b[0m\u001b[1;33m,\u001b[0m\u001b[0mk\u001b[0m\u001b[1;33m)\u001b[0m\u001b[1;33m\u001b[0m\u001b[0m\n\u001b[0;32m      3\u001b[0m     \u001b[0mclusters\u001b[0m \u001b[1;33m=\u001b[0m \u001b[1;33m[\u001b[0m\u001b[1;33m]\u001b[0m\u001b[1;33m\u001b[0m\u001b[0m\n\u001b[1;32m----> 4\u001b[1;33m     \u001b[1;32mfor\u001b[0m \u001b[0mp\u001b[0m \u001b[1;32min\u001b[0m \u001b[0minitial_points\u001b[0m\u001b[1;33m:\u001b[0m \u001b[0mclusters\u001b[0m\u001b[1;33m.\u001b[0m\u001b[0mappend\u001b[0m\u001b[1;33m(\u001b[0m\u001b[0mCluster\u001b[0m\u001b[1;33m(\u001b[0m\u001b[0mp\u001b[0m\u001b[1;33m)\u001b[0m\u001b[1;33m)\u001b[0m\u001b[1;33m\u001b[0m\u001b[0m\n\u001b[0m\u001b[0;32m      5\u001b[0m     \u001b[1;32mwhile\u001b[0m \u001b[1;32mTrue\u001b[0m\u001b[1;33m:\u001b[0m\u001b[1;33m\u001b[0m\u001b[0m\n\u001b[0;32m      6\u001b[0m         \u001b[0mlists\u001b[0m\u001b[1;33m=\u001b[0m\u001b[1;33m[\u001b[0m\u001b[1;33m]\u001b[0m\u001b[1;33m\u001b[0m\u001b[0m\n",
      "\u001b[1;32m<ipython-input-6-7707280b61ee>\u001b[0m in \u001b[0;36m__init__\u001b[1;34m(self, point)\u001b[0m\n\u001b[0;32m      1\u001b[0m \u001b[1;32mclass\u001b[0m \u001b[0mCluster\u001b[0m\u001b[1;33m:\u001b[0m\u001b[1;33m\u001b[0m\u001b[0m\n\u001b[0;32m      2\u001b[0m     \u001b[1;32mdef\u001b[0m \u001b[0m__init__\u001b[0m\u001b[1;33m(\u001b[0m\u001b[0mself\u001b[0m\u001b[1;33m,\u001b[0m\u001b[0mpoint\u001b[0m\u001b[1;33m)\u001b[0m\u001b[1;33m:\u001b[0m\u001b[1;33m\u001b[0m\u001b[0m\n\u001b[1;32m----> 3\u001b[1;33m         \u001b[1;32mif\u001b[0m \u001b[0mlen\u001b[0m\u001b[1;33m(\u001b[0m\u001b[0mpoint\u001b[0m\u001b[1;33m)\u001b[0m\u001b[1;33m==\u001b[0m\u001b[1;36m0\u001b[0m\u001b[1;33m:\u001b[0m\u001b[1;32mraise\u001b[0m \u001b[0mException\u001b[0m\u001b[1;33m(\u001b[0m\u001b[1;34m\"ILLEGAL: Empty cluster\"\u001b[0m\u001b[1;33m)\u001b[0m\u001b[1;33m\u001b[0m\u001b[0m\n\u001b[0m\u001b[0;32m      4\u001b[0m         \u001b[0mself\u001b[0m\u001b[1;33m.\u001b[0m\u001b[0mpoint\u001b[0m\u001b[1;33m=\u001b[0m\u001b[0mpoint\u001b[0m\u001b[1;33m\u001b[0m\u001b[0m\n\u001b[0;32m      5\u001b[0m         \u001b[0mself\u001b[0m\u001b[1;33m.\u001b[0m\u001b[0mn\u001b[0m\u001b[1;33m=\u001b[0m\u001b[0mpoint\u001b[0m\u001b[1;33m[\u001b[0m\u001b[1;36m0\u001b[0m\u001b[1;33m]\u001b[0m\u001b[1;33m.\u001b[0m\u001b[0mn\u001b[0m\u001b[1;33m\u001b[0m\u001b[0m\n",
      "\u001b[1;31mTypeError\u001b[0m: object of type 'Point' has no len()"
     ]
    }
   ],
   "source": [
    "if __name__==\"__main__\": main(sys.argv)"
   ]
  },
  {
   "cell_type": "code",
   "execution_count": null,
   "metadata": {
    "collapsed": true
   },
   "outputs": [],
   "source": []
  }
 ],
 "metadata": {
  "kernelspec": {
   "display_name": "Python 3",
   "language": "python",
   "name": "python3"
  },
  "language_info": {
   "codemirror_mode": {
    "name": "ipython",
    "version": 3
   },
   "file_extension": ".py",
   "mimetype": "text/x-python",
   "name": "python",
   "nbconvert_exporter": "python",
   "pygments_lexer": "ipython3",
   "version": "3.6.3"
  }
 },
 "nbformat": 4,
 "nbformat_minor": 2
}
